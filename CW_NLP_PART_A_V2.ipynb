{
 "cells": [
  {
   "cell_type": "markdown",
   "metadata": {},
   "source": [
    "# ALTERNATIVE MODEL FOR PART A"
   ]
  },
  {
   "cell_type": "code",
   "execution_count": 1,
   "metadata": {},
   "outputs": [
    {
     "name": "stderr",
     "output_type": "stream",
     "text": [
      "[nltk_data] Downloading package stopwords to /Users/mobby/nltk_data...\n",
      "[nltk_data]   Package stopwords is already up-to-date!\n"
     ]
    }
   ],
   "source": [
    "#loading packages\n",
    "\n",
    "import torch\n",
    "from torch.autograd import Variable\n",
    "import numpy as np\n",
    "import torch.nn as nn\n",
    "import torch.optim as optim\n",
    "import torch.nn.functional as F\n",
    "from tqdm import tqdm \n",
    "import codecs\n",
    "import random\n",
    "import pandas as pd \n",
    "import re\n",
    "import gensim\n",
    "\n",
    "import nltk\n",
    "nltk.download('stopwords')\n",
    "from nltk.corpus import stopwords\n",
    "\n",
    "from sklearn import model_selection"
   ]
  },
  {
   "cell_type": "code",
   "execution_count": 2,
   "metadata": {},
   "outputs": [],
   "source": [
    "#1. VISUALIZING DATA "
   ]
  },
  {
   "cell_type": "code",
   "execution_count": 3,
   "metadata": {},
   "outputs": [],
   "source": [
    "df = pd.read_csv('offenseval-training-v1.tsv',sep='\\t', header=0, names = ['ID','Tweet','Task_A','Task_B','Task_C'])\n",
    "df_test = pd.read_csv('offenseval-trial.txt',sep=\"\\t\", header=0, names = ['Tweet','Task_A','Task_B','Task_C'])"
   ]
  },
  {
   "cell_type": "code",
   "execution_count": 42,
   "metadata": {},
   "outputs": [
    {
     "data": {
      "text/html": [
       "<div>\n",
       "<style scoped>\n",
       "    .dataframe tbody tr th:only-of-type {\n",
       "        vertical-align: middle;\n",
       "    }\n",
       "\n",
       "    .dataframe tbody tr th {\n",
       "        vertical-align: top;\n",
       "    }\n",
       "\n",
       "    .dataframe thead th {\n",
       "        text-align: right;\n",
       "    }\n",
       "</style>\n",
       "<table border=\"1\" class=\"dataframe\">\n",
       "  <thead>\n",
       "    <tr style=\"text-align: right;\">\n",
       "      <th></th>\n",
       "      <th>ID</th>\n",
       "      <th>Tweet</th>\n",
       "      <th>Task_A</th>\n",
       "      <th>Task_B</th>\n",
       "      <th>Task_C</th>\n",
       "    </tr>\n",
       "  </thead>\n",
       "  <tbody>\n",
       "    <tr>\n",
       "      <th>0</th>\n",
       "      <td>86426</td>\n",
       "      <td>@USER She should ask a few native Americans wh...</td>\n",
       "      <td>OFF</td>\n",
       "      <td>UNT</td>\n",
       "      <td>NaN</td>\n",
       "    </tr>\n",
       "    <tr>\n",
       "      <th>1</th>\n",
       "      <td>90194</td>\n",
       "      <td>@USER @USER Go home you’re drunk!!! @USER #MAG...</td>\n",
       "      <td>OFF</td>\n",
       "      <td>TIN</td>\n",
       "      <td>IND</td>\n",
       "    </tr>\n",
       "    <tr>\n",
       "      <th>2</th>\n",
       "      <td>16820</td>\n",
       "      <td>Amazon is investigating Chinese employees who ...</td>\n",
       "      <td>NOT</td>\n",
       "      <td>NaN</td>\n",
       "      <td>NaN</td>\n",
       "    </tr>\n",
       "    <tr>\n",
       "      <th>3</th>\n",
       "      <td>62688</td>\n",
       "      <td>@USER Someone should'veTaken\" this piece of sh...</td>\n",
       "      <td>OFF</td>\n",
       "      <td>UNT</td>\n",
       "      <td>NaN</td>\n",
       "    </tr>\n",
       "    <tr>\n",
       "      <th>4</th>\n",
       "      <td>43605</td>\n",
       "      <td>@USER @USER Obama wanted liberals &amp;amp; illega...</td>\n",
       "      <td>NOT</td>\n",
       "      <td>NaN</td>\n",
       "      <td>NaN</td>\n",
       "    </tr>\n",
       "  </tbody>\n",
       "</table>\n",
       "</div>"
      ],
      "text/plain": [
       "      ID                                              Tweet Task_A Task_B  \\\n",
       "0  86426  @USER She should ask a few native Americans wh...    OFF    UNT   \n",
       "1  90194  @USER @USER Go home you’re drunk!!! @USER #MAG...    OFF    TIN   \n",
       "2  16820  Amazon is investigating Chinese employees who ...    NOT    NaN   \n",
       "3  62688  @USER Someone should'veTaken\" this piece of sh...    OFF    UNT   \n",
       "4  43605  @USER @USER Obama wanted liberals &amp; illega...    NOT    NaN   \n",
       "\n",
       "  Task_C  \n",
       "0    NaN  \n",
       "1    IND  \n",
       "2    NaN  \n",
       "3    NaN  \n",
       "4    NaN  "
      ]
     },
     "execution_count": 42,
     "metadata": {},
     "output_type": "execute_result"
    }
   ],
   "source": [
    "df.head(5)\n",
    "#df_test.head(5)"
   ]
  },
  {
   "cell_type": "code",
   "execution_count": 5,
   "metadata": {},
   "outputs": [],
   "source": [
    "#Pre-process functions \n",
    "\n",
    "def remove_emoji(sentence):\n",
    "    \n",
    "    #processed = sentence.decode('utf-8')\n",
    "    \n",
    "    emoji_pattern = re.compile(\"[\"\n",
    "        u\"\\U0001F600-\\U0001F64F\"  # emoticons\n",
    "        u\"\\U0001F300-\\U0001F5FF\"  # symbols & pictographs\n",
    "        u\"\\U0001F680-\\U0001F6FF\"  # transport & map symbols\n",
    "        u\"\\U0001F1E0-\\U0001F1FF\"  # flags (iOS)\n",
    "                           \"]+\", flags=re.UNICODE)\n",
    "    processed = emoji_pattern.sub(r'', sentence) # no emoji\n",
    "    \n",
    "    return(processed)\n",
    "\n",
    "def replace_users(sentence):\n",
    "    \n",
    "    processed = re.sub('(?<=^|(?<=[^a-zA-Z0-9-_\\.]))@([A-Za-z]+[A-Za-z0-9-_]+)','@USER', sentence)\n",
    "    return(processed)\n",
    "\n",
    "def replace_url(sentence):\n",
    "    \n",
    "    processed = re.sub('http[s]?://(?:[a-zA-Z]|[0-9]|[$-_@.&+]|[!*\\(\\),]|(?:%[0-9a-fA-F][0-9a-fA-F]))+','website', sentence)\n",
    "    return(processed)\n",
    "    \n",
    "\n",
    "def remove_white(sentence):\n",
    "    \n",
    "    processed = sentence.replace(r'[^\\w\\d\\s]',' ') #replace punctuation by space\n",
    "    processed = processed.replace(r'\\s+', ' ') #replace whitespaces with a single space\n",
    "    processed = processed.replace(r'^\\s+|\\s+?$','') #replace leading and trailing whitespace\n",
    "    processed = processed.replace('\\n','')\n",
    "\n",
    "    return(processed)\n",
    "\n",
    "\n",
    "def remove_stop(sentence): #remove stop words\n",
    "    \n",
    "    stop_words = set(stopwords.words('english'))\n",
    "    processed = sentence.apply(lambda x: ' '.join(term for term in x.split() is term not in stop_words))\n",
    "    \n",
    "    return(processed)\n",
    "\n",
    "def remove_stems(sentence):\n",
    "    \n",
    "    ps = nltk.PorterStemmer()\n",
    "    \n",
    "    processed = processed.apply(lambda x: ' '.join(ps.stem(term) for term in x.split()))\n",
    "    \n",
    "    return(processed)\n",
    "\n",
    "def preproc_dset(corpus):\n",
    "    \n",
    "    new_corpus = []\n",
    "    \n",
    "    for sentence in corpus :\n",
    "        \n",
    "        processed = remove_white(sentence)\n",
    "        processed = remove_stop(processed)\n",
    "        processed = remove_stems(processed)\n",
    "        new_corpus.append(processed)\n",
    "        \n",
    "    return(new_corpus)\n",
    "\n",
    "\n",
    "def remove_char(sentence):\n",
    "    \n",
    "    chars = ['.',',',':','!','?','%',')','(',';','[',']','{','}','$','@','#','=','^','*','$','/']\n",
    "    for char in chars:\n",
    "        sentence= sentence.replace(char,'')\n",
    "        \n",
    "        \n",
    "    return(sentence)\n",
    "\n",
    "def lower(sentence):\n",
    "    \n",
    "    sentence = sentence.lower()\n",
    "    return(sentence)\n",
    "        "
   ]
  },
  {
   "cell_type": "code",
   "execution_count": 6,
   "metadata": {},
   "outputs": [],
   "source": [
    "def get_tokenized_corpus(corpus):\n",
    "    \n",
    "    tokenized_corpus = [] # Let us put the tokenized corpus in a list\n",
    "    \n",
    "    for sentence in corpus:\n",
    "        \n",
    "        tokenized_sentence = []\n",
    "        for token in sentence.split(' '): # simplest split is \n",
    "            tokenized_sentence.append(token)\n",
    "           \n",
    "        tokenized_corpus.append(tokenized_sentence)\n",
    "        \n",
    "    return tokenized_corpus "
   ]
  },
  {
   "cell_type": "code",
   "execution_count": 7,
   "metadata": {},
   "outputs": [
    {
     "name": "stdout",
     "output_type": "stream",
     "text": [
      "corpus size : 13240\n",
      "labels size : 13240\n",
      "corpus size : 319\n",
      "labels size : 319\n"
     ]
    }
   ],
   "source": [
    "corpus = df['Tweet'].tolist()\n",
    "labels = df['Task_A'].tolist()\n",
    "\n",
    "#corpus = df['Tweet']\n",
    "#labels = df['Task_A']\n",
    "\n",
    "test_corpus = df_test['Tweet'].tolist()\n",
    "test_labels = df_test['Task_A'].tolist()\n",
    "\n",
    "print(\"corpus size :\", len(corpus))\n",
    "print(\"labels size :\", len(labels))\n",
    "\n",
    "print(\"corpus size :\", len(test_corpus))\n",
    "print(\"labels size :\", len(test_labels))"
   ]
  },
  {
   "cell_type": "code",
   "execution_count": 8,
   "metadata": {},
   "outputs": [
    {
     "name": "stdout",
     "output_type": "stream",
     "text": [
      "[1 1 0 1 0 1 1 1 0 1]\n",
      "['OFF', 'OFF', 'NOT', 'OFF', 'NOT', 'OFF', 'OFF', 'OFF', 'NOT', 'OFF']\n"
     ]
    }
   ],
   "source": [
    "#convert class labels to binary values \n",
    "from sklearn.preprocessing import LabelEncoder\n",
    "\n",
    "encoder = LabelEncoder()\n",
    "encoder_test = LabelEncoder()\n",
    "\n",
    "Y = encoder.fit_transform(labels)\n",
    "Y_test = encoder_test.fit_transform(test_labels)\n",
    "\n",
    "print(Y[:10])\n",
    "print(labels[:10])"
   ]
  },
  {
   "cell_type": "code",
   "execution_count": 9,
   "metadata": {},
   "outputs": [
    {
     "name": "stdout",
     "output_type": "stream",
     "text": [
      "size of sentence before removing stopwords : 14\n",
      "size of sentence after removing stopwords 5\n"
     ]
    }
   ],
   "source": [
    "##### PROCESS TRAINING DATA \n",
    "\n",
    "stop_words = set(stopwords.words('english'))\n",
    "\n",
    "processed_corpus = []\n",
    "\n",
    "for sentence in corpus :\n",
    "    processed = remove_emoji(sentence)\n",
    "    processed = remove_white(processed) #remove punctuation + white space\n",
    "    processed = remove_char(processed)\n",
    "    processed = lower(processed)\n",
    "    processed_corpus.append(processed)\n",
    "\n",
    "tokenized_corpus = get_tokenized_corpus(processed_corpus) #tokenize corpus\n",
    "\n",
    "print('size of sentence before removing stopwords :',len(tokenized_corpus[0]))\n",
    "\n",
    "filtered_corpus = []\n",
    "for sentence in tokenized_corpus :\n",
    "    new_sentence = []\n",
    "    for word in sentence: \n",
    "        if word not in stop_words and word!='': #remove stop words and empty words\n",
    "            new_sentence.append(word)       \n",
    "    filtered_corpus.append(new_sentence)\n",
    "    \n",
    "    \n",
    "print('size of sentence after removing stopwords',len(filtered_corpus[0]))\n",
    "\n",
    "\n",
    "ps = nltk.PorterStemmer()\n",
    "stemmed_corpus = []\n",
    "for sentence in filtered_corpus :\n",
    "    new_sentence = []\n",
    "    for word in sentence: \n",
    "        new_sentence.append(ps.stem(word)) #stem words      \n",
    "    stemmed_corpus.append(new_sentence)\n",
    "\n",
    "#print('corpus insight after pre-processing :',stemmed_corpus[:3])"
   ]
  },
  {
   "cell_type": "code",
   "execution_count": 10,
   "metadata": {},
   "outputs": [
    {
     "name": "stdout",
     "output_type": "stream",
     "text": [
      "size of sentence before removing stopwords : 41\n",
      "size of corpus : 13240\n",
      "size of sentence after removing stopwords 23\n"
     ]
    }
   ],
   "source": [
    "######## PROCESS TEST DATA\n",
    "\n",
    "stop_words = set(stopwords.words('english'))\n",
    "\n",
    "test_processed_corpus = []\n",
    "\n",
    "for sentence in test_corpus :\n",
    "    processed = remove_emoji(sentence)\n",
    "    processed = replace_users(processed)\n",
    "    processed = replace_url(processed)\n",
    "    processed = remove_white(processed) #remove punctuation + white space\n",
    "    processed = remove_char(processed)\n",
    "    processed = lower(processed)\n",
    "    test_processed_corpus.append(processed)\n",
    "\n",
    "test_tokenized_corpus = get_tokenized_corpus(test_processed_corpus) #tokenize corpus\n",
    "\n",
    "print('size of sentence before removing stopwords :',len(test_tokenized_corpus[0]))\n",
    "\n",
    "test_filtered_corpus = []\n",
    "for sentence in test_tokenized_corpus :\n",
    "    new_sentence = []\n",
    "    for word in sentence: \n",
    "        if word not in stop_words and word!='': #remove stop words and empty words\n",
    "            new_sentence.append(word)       \n",
    "    test_filtered_corpus.append(new_sentence)\n",
    "    \n",
    "print('size of corpus :', len(filtered_corpus))\n",
    "    \n",
    "print('size of sentence after removing stopwords',len(test_filtered_corpus[0]))\n",
    "\n",
    "\n",
    "ps = nltk.PorterStemmer()\n",
    "test_stemmed_corpus = []\n",
    "for sentence in test_filtered_corpus :\n",
    "    new_sentence = []\n",
    "    for word in sentence: \n",
    "        new_sentence.append(ps.stem(word)) #stem words      \n",
    "    test_stemmed_corpus.append(new_sentence)\n",
    "\n",
    "#print('\\ncorpus insight after pre-processing :',test_stemmed_corpus[:20])\n",
    "#print('\\ncorpus before any pre-processing :', test_corpus[:3])"
   ]
  },
  {
   "cell_type": "markdown",
   "metadata": {},
   "source": [
    "# MODEL FOR DOC2VEC"
   ]
  },
  {
   "cell_type": "code",
   "execution_count": 24,
   "metadata": {},
   "outputs": [
    {
     "name": "stdout",
     "output_type": "stream",
     "text": [
      "13240\n"
     ]
    }
   ],
   "source": [
    "from gensim.models.doc2vec import Doc2Vec, TaggedDocument\n",
    "\n",
    "dset = zip(stemmed_corpus,Y)\n",
    "d = list(dset)\n",
    "\n",
    "tagged_data = [TaggedDocument(words=sentence, tags=[str(i)]) for i, sentence in enumerate(stemmed_corpus)]\n",
    "\n",
    "print(len(tagged_data))\n",
    "\n",
    "#print(tagged_data[:20])"
   ]
  },
  {
   "cell_type": "markdown",
   "metadata": {},
   "source": [
    "# DOC2VEC TRAINING"
   ]
  },
  {
   "cell_type": "code",
   "execution_count": 25,
   "metadata": {},
   "outputs": [
    {
     "name": "stderr",
     "output_type": "stream",
     "text": [
      "/Users/mobby/anaconda3/envs/mli/lib/python3.6/site-packages/gensim/models/doc2vec.py:580: UserWarning: The parameter `size` is deprecated, will be removed in 4.0.0, use `vector_size` instead.\n",
      "  warnings.warn(\"The parameter `size` is deprecated, will be removed in 4.0.0, use `vector_size` instead.\")\n"
     ]
    },
    {
     "name": "stdout",
     "output_type": "stream",
     "text": [
      "iteration 0\n"
     ]
    },
    {
     "name": "stderr",
     "output_type": "stream",
     "text": [
      "/Users/mobby/anaconda3/envs/mli/lib/python3.6/site-packages/ipykernel_launcher.py:17: DeprecationWarning: Call to deprecated `iter` (Attribute will be removed in 4.0.0, use self.epochs instead).\n"
     ]
    },
    {
     "name": "stdout",
     "output_type": "stream",
     "text": [
      "iteration 1\n",
      "iteration 2\n",
      "iteration 3\n",
      "iteration 4\n",
      "iteration 5\n",
      "iteration 6\n",
      "iteration 7\n",
      "iteration 8\n",
      "iteration 9\n",
      "iteration 10\n",
      "iteration 11\n",
      "iteration 12\n",
      "iteration 13\n",
      "iteration 14\n",
      "iteration 15\n",
      "iteration 16\n",
      "iteration 17\n",
      "iteration 18\n",
      "iteration 19\n",
      "iteration 20\n",
      "iteration 21\n",
      "iteration 22\n",
      "iteration 23\n",
      "iteration 24\n",
      "iteration 25\n",
      "iteration 26\n",
      "iteration 27\n",
      "iteration 28\n",
      "iteration 29\n",
      "iteration 30\n",
      "iteration 31\n",
      "iteration 32\n",
      "iteration 33\n",
      "iteration 34\n",
      "iteration 35\n",
      "iteration 36\n",
      "iteration 37\n",
      "iteration 38\n",
      "iteration 39\n",
      "iteration 40\n",
      "iteration 41\n",
      "iteration 42\n",
      "iteration 43\n",
      "iteration 44\n",
      "iteration 45\n",
      "iteration 46\n",
      "iteration 47\n",
      "iteration 48\n",
      "iteration 49\n",
      "iteration 50\n",
      "iteration 51\n",
      "iteration 52\n",
      "iteration 53\n",
      "iteration 54\n",
      "iteration 55\n",
      "iteration 56\n",
      "iteration 57\n",
      "iteration 58\n",
      "iteration 59\n",
      "iteration 60\n",
      "iteration 61\n",
      "iteration 62\n",
      "iteration 63\n",
      "iteration 64\n",
      "iteration 65\n",
      "iteration 66\n",
      "iteration 67\n",
      "iteration 68\n",
      "iteration 69\n",
      "iteration 70\n",
      "iteration 71\n",
      "iteration 72\n",
      "iteration 73\n",
      "iteration 74\n",
      "iteration 75\n",
      "iteration 76\n",
      "iteration 77\n",
      "iteration 78\n",
      "iteration 79\n",
      "iteration 80\n",
      "iteration 81\n",
      "iteration 82\n",
      "iteration 83\n",
      "iteration 84\n",
      "iteration 85\n",
      "iteration 86\n",
      "iteration 87\n",
      "iteration 88\n",
      "iteration 89\n",
      "iteration 90\n",
      "iteration 91\n",
      "iteration 92\n",
      "iteration 93\n",
      "iteration 94\n",
      "iteration 95\n",
      "iteration 96\n",
      "iteration 97\n",
      "iteration 98\n",
      "iteration 99\n"
     ]
    }
   ],
   "source": [
    "max_epochs = 100\n",
    "vec_size = 50\n",
    "alpha = 0.025\n",
    "\n",
    "model = Doc2Vec(size=vec_size,\n",
    "                alpha=alpha, \n",
    "                min_alpha=0.00025,\n",
    "                min_count=1,\n",
    "                dm =1)\n",
    "  \n",
    "model.build_vocab(tagged_data)\n",
    "\n",
    "for epoch in range(max_epochs):\n",
    "    print('iteration {0}'.format(epoch))\n",
    "    model.train(tagged_data,\n",
    "                total_examples=model.corpus_count,\n",
    "                epochs=model.iter)\n",
    "    # decrease the learning rate\n",
    "    model.alpha -= 0.0002\n",
    "    # fix the learning rate, no decay\n",
    "    model.min_alpha = model.alpha"
   ]
  },
  {
   "cell_type": "code",
   "execution_count": 30,
   "metadata": {},
   "outputs": [
    {
     "data": {
      "text/plain": [
       "[('7598', 0.7240195274353027),\n",
       " ('1569', 0.7178003191947937),\n",
       " ('12845', 0.7090256810188293),\n",
       " ('6559', 0.6986104846000671),\n",
       " ('3365', 0.6932913661003113),\n",
       " ('13108', 0.6818808913230896),\n",
       " ('3648', 0.6804354786872864),\n",
       " ('11225', 0.6674841046333313),\n",
       " ('11788', 0.6663023829460144),\n",
       " ('3045', 0.6596972942352295)]"
      ]
     },
     "execution_count": 30,
     "metadata": {},
     "output_type": "execute_result"
    }
   ],
   "source": [
    "model.docvecs.most_similar('0')"
   ]
  },
  {
   "cell_type": "code",
   "execution_count": 94,
   "metadata": {},
   "outputs": [
    {
     "name": "stdout",
     "output_type": "stream",
     "text": [
      "(13240, 50)\n"
     ]
    }
   ],
   "source": [
    "X = model.docvecs[0].reshape(1,-1)\n",
    "\n",
    "for i in range(1,len(stemmed_corpus)):\n",
    "    X = np.concatenate((X,model.docvecs[i].reshape(1,-1)),axis=0)\n",
    "    \n",
    "print(np.shape(X))"
   ]
  },
  {
   "cell_type": "code",
   "execution_count": 112,
   "metadata": {},
   "outputs": [
    {
     "name": "stdout",
     "output_type": "stream",
     "text": [
      "(17680, 50)\n",
      "(17680,)\n"
     ]
    }
   ],
   "source": [
    "from imblearn.over_sampling import RandomOverSampler\n",
    "ros = RandomOverSampler(random_state=0)\n",
    "#X_train = X.reshape(-1,1)\n",
    "#print(np.shape(X_train))\n",
    "#Y_train = Y.reshape(-1,1)\n",
    "X_train, Y_train = ros.fit_resample(X, Y.reshape(-1,))\n",
    "\n",
    "print(np.shape(X_train))\n",
    "print(np.shape(Y_train))"
   ]
  },
  {
   "cell_type": "markdown",
   "metadata": {},
   "source": [
    "# CLASSIFICATION MODEL"
   ]
  },
  {
   "cell_type": "code",
   "execution_count": 113,
   "metadata": {},
   "outputs": [
    {
     "data": {
      "text/plain": [
       "MLPClassifier(activation='relu', alpha=1e-05, batch_size='auto', beta_1=0.9,\n",
       "       beta_2=0.999, early_stopping=False, epsilon=1e-08,\n",
       "       hidden_layer_sizes=(842, 86), learning_rate='constant',\n",
       "       learning_rate_init=0.001, max_iter=200, momentum=0.9,\n",
       "       n_iter_no_change=10, nesterovs_momentum=True, power_t=0.5,\n",
       "       random_state=1, shuffle=True, solver='lbfgs', tol=0.0001,\n",
       "       validation_fraction=0.1, verbose=False, warm_start=False)"
      ]
     },
     "execution_count": 113,
     "metadata": {},
     "output_type": "execute_result"
    }
   ],
   "source": [
    "from sklearn.neural_network import MLPClassifier\n",
    "\n",
    "clf = MLPClassifier(solver='lbfgs', alpha=1e-5,hidden_layer_sizes=(842, 86), random_state=1)\n",
    "\n",
    "clf.fit(X_train,Y_train)"
   ]
  },
  {
   "cell_type": "code",
   "execution_count": 122,
   "metadata": {},
   "outputs": [
    {
     "name": "stderr",
     "output_type": "stream",
     "text": [
      "/Users/mobby/anaconda3/envs/mli/lib/python3.6/site-packages/sklearn/ensemble/forest.py:246: FutureWarning: The default value of n_estimators will change from 10 in version 0.20 to 100 in 0.22.\n",
      "  \"10 in version 0.20 to 100 in 0.22.\", FutureWarning)\n"
     ]
    },
    {
     "data": {
      "text/plain": [
       "RandomForestClassifier(bootstrap=True, class_weight=None, criterion='gini',\n",
       "            max_depth=None, max_features='auto', max_leaf_nodes=None,\n",
       "            min_impurity_decrease=0.0, min_impurity_split=None,\n",
       "            min_samples_leaf=1, min_samples_split=2,\n",
       "            min_weight_fraction_leaf=0.0, n_estimators=10, n_jobs=None,\n",
       "            oob_score=False, random_state=None, verbose=0,\n",
       "            warm_start=False)"
      ]
     },
     "execution_count": 122,
     "metadata": {},
     "output_type": "execute_result"
    }
   ],
   "source": [
    "from sklearn.ensemble import RandomForestClassifier\n",
    "\n",
    "\n",
    "\n",
    "gnb = RandomForestClassifier()\n",
    "\n",
    "gnb.fit(X_train, Y_train)"
   ]
  },
  {
   "cell_type": "markdown",
   "metadata": {},
   "source": [
    "# MAKE PREDICTIONS"
   ]
  },
  {
   "cell_type": "code",
   "execution_count": 114,
   "metadata": {},
   "outputs": [
    {
     "name": "stdout",
     "output_type": "stream",
     "text": [
      "319\n"
     ]
    }
   ],
   "source": [
    "#compute Doc2Vec for test corpus\n",
    "test_vec = []\n",
    "\n",
    "for sentence in test_stemmed_corpus :\n",
    "    \n",
    "    labels = []\n",
    "    probas = 0\n",
    "    test_vec.append(model.infer_vector(sentence))\n",
    "    \n",
    "print(len(test_vec))"
   ]
  },
  {
   "cell_type": "code",
   "execution_count": 115,
   "metadata": {},
   "outputs": [
    {
     "name": "stdout",
     "output_type": "stream",
     "text": [
      "319\n"
     ]
    }
   ],
   "source": [
    "#make prediction for test vectors\n",
    "Y_pred = []\n",
    "\n",
    "for vec in test_vec :\n",
    "    \n",
    "    Y_pred.append(clf.predict(vec.reshape(1,-1))[0])\n",
    "\n",
    "print(len(Y_pred))"
   ]
  },
  {
   "cell_type": "code",
   "execution_count": 123,
   "metadata": {},
   "outputs": [
    {
     "name": "stdout",
     "output_type": "stream",
     "text": [
      "319\n"
     ]
    }
   ],
   "source": [
    "Y_pred2 = []\n",
    "\n",
    "for vec in test_vec :\n",
    "    \n",
    "    Y_pred2.append(gnb.predict(vec.reshape(1,-1))[0])\n",
    "\n",
    "print(len(Y_pred2))"
   ]
  },
  {
   "cell_type": "markdown",
   "metadata": {},
   "source": [
    "# RESULTS"
   ]
  },
  {
   "cell_type": "code",
   "execution_count": 116,
   "metadata": {},
   "outputs": [
    {
     "name": "stdout",
     "output_type": "stream",
     "text": [
      "[[242.   0.]\n",
      " [ 77.   0.]]\n"
     ]
    }
   ],
   "source": [
    "conf_mat = confusion_matrix(Y_test,Y_pred)\n",
    "print(conf_mat)"
   ]
  },
  {
   "cell_type": "code",
   "execution_count": 126,
   "metadata": {},
   "outputs": [
    {
     "name": "stdout",
     "output_type": "stream",
     "text": [
      "==========================\n",
      "For class  0  : \n",
      "\n",
      "Precision :  0.7586206896551724\n",
      "Recall :  1.0\n",
      "F1 :  0.8627450980392156\n",
      "==========================\n",
      "==========================\n",
      "For class  1  : \n",
      "\n",
      "Precision :  nan\n",
      "Recall :  0.0\n",
      "F1 :  nan\n",
      "==========================\n",
      "Classification Rate :  0.7586206896551724\n"
     ]
    },
    {
     "name": "stderr",
     "output_type": "stream",
     "text": [
      "/Users/mobby/anaconda3/envs/mli/lib/python3.6/site-packages/ipykernel_launcher.py:15: RuntimeWarning: invalid value encountered in double_scalars\n",
      "  from ipykernel import kernelapp as app\n"
     ]
    }
   ],
   "source": [
    "compute_recall_precision_f1(conf_mat)"
   ]
  },
  {
   "cell_type": "code",
   "execution_count": 124,
   "metadata": {},
   "outputs": [
    {
     "name": "stdout",
     "output_type": "stream",
     "text": [
      "[[188.  54.]\n",
      " [ 57.  20.]]\n"
     ]
    }
   ],
   "source": [
    "conf_mat2 = confusion_matrix(Y_test,Y_pred2)\n",
    "print(conf_mat2)"
   ]
  },
  {
   "cell_type": "code",
   "execution_count": 125,
   "metadata": {},
   "outputs": [
    {
     "name": "stdout",
     "output_type": "stream",
     "text": [
      "==========================\n",
      "For class  0  : \n",
      "\n",
      "Precision :  0.7673469387755102\n",
      "Recall :  0.7768595041322314\n",
      "F1 :  0.7720739219712526\n",
      "==========================\n",
      "==========================\n",
      "For class  1  : \n",
      "\n",
      "Precision :  0.2702702702702703\n",
      "Recall :  0.2597402597402597\n",
      "F1 :  0.26490066225165565\n",
      "==========================\n",
      "Classification Rate :  0.6520376175548589\n"
     ]
    }
   ],
   "source": [
    "compute_recall_precision_f1(conf_mat2)"
   ]
  }
 ],
 "metadata": {
  "celltoolbar": "Format de la Cellule Texte Brut",
  "kernelspec": {
   "display_name": "Python 3",
   "language": "python",
   "name": "python3"
  },
  "language_info": {
   "codemirror_mode": {
    "name": "ipython",
    "version": 3
   },
   "file_extension": ".py",
   "mimetype": "text/x-python",
   "name": "python",
   "nbconvert_exporter": "python",
   "pygments_lexer": "ipython3",
   "version": "3.6.8"
  }
 },
 "nbformat": 4,
 "nbformat_minor": 2
}
